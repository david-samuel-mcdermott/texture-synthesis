{
 "cells": [
  {
   "cell_type": "code",
   "execution_count": 17,
   "metadata": {},
   "outputs": [],
   "source": [
    "import sys\n",
    "import os\n",
    "\n",
    "#Get present working directory\n",
    "if sys.platform == 'win32' or sys.platform == 'cygwin':\n",
    "    pwd = !CD\n",
    "else:\n",
    "    pwd = !pwd\n",
    "\n",
    "#Get directory up one level\n",
    "pwd = pwd[0]\n",
    "updir = pwd[:pwd.rfind(os.sep)]\n",
    "#Add same directory as main.py to path\n",
    "sys.path.insert(0, updir)\n",
    "\n",
    "#Pretend that we're in main.py now\n",
    "from algorithms import AbstractSynthesizer"
   ]
  },
  {
   "cell_type": "code",
   "execution_count": null,
   "metadata": {},
   "outputs": [],
   "source": []
  }
 ],
 "metadata": {
  "kernelspec": {
   "display_name": "Python 3",
   "language": "python",
   "name": "python3"
  },
  "language_info": {
   "codemirror_mode": {
    "name": "ipython",
    "version": 3
   },
   "file_extension": ".py",
   "mimetype": "text/x-python",
   "name": "python",
   "nbconvert_exporter": "python",
   "pygments_lexer": "ipython3",
   "version": "3.6.4"
  }
 },
 "nbformat": 4,
 "nbformat_minor": 2
}
