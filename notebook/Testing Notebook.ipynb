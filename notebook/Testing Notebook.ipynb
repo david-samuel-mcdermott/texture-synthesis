{
 "cells": [
  {
   "cell_type": "code",
   "execution_count": 1,
   "metadata": {},
   "outputs": [],
   "source": [
    "import sys\n",
    "import os\n",
    "\n",
    "#Get present working directory\n",
    "if sys.platform == 'win32' or sys.platform == 'cygwin':\n",
    "    pwd = !CD\n",
    "else:\n",
    "    pwd = !pwd\n",
    "\n",
    "#Get directory up one level\n",
    "pwd = pwd[0]\n",
    "updir = pwd[:pwd.rfind(os.sep)]\n",
    "#Add same directory as main.py to path\n",
    "sys.path.insert(0, updir)\n",
    "\n",
    "#Pretend that we're in main.py now\n",
    "from algorithms import AbstractSynthesizer"
   ]
  },
  {
   "cell_type": "code",
   "execution_count": 2,
   "metadata": {},
   "outputs": [
    {
     "name": "stdout",
     "output_type": "stream",
     "text": [
      "[160 184  72]\n",
      "124 185\n"
     ]
    }
   ],
   "source": [
    "import matplotlib.image as mpimage\n",
    "import matplotlib.pyplot as plt\n",
    "\n",
    "#Validate that Pillow is reading the JPEG data correctly\n",
    "#This may need to be run twice for the cell to behave correctly\n",
    "imageData = mpimage.imread(\"../sample-inputs/CMPSC458/apples.jpg\")\n",
    "#imageData = mpimage.imread(\"../sample-inputs/tri.png\")\n",
    "plt.imshow(imageData)\n",
    "print(imageData[0][0])\n",
    "print(len(imageData), len(imageData[0]))"
   ]
  },
  {
   "cell_type": "markdown",
   "metadata": {},
   "source": [
    "# Test Cells\n",
    "The following cells are used to test synthesis methods - transparent is 0, range is 0-1"
   ]
  },
  {
   "cell_type": "code",
   "execution_count": 3,
   "metadata": {},
   "outputs": [],
   "source": [
    "outputSize = (256, 256)"
   ]
  },
  {
   "cell_type": "code",
   "execution_count": 14,
   "metadata": {},
   "outputs": [],
   "source": [
    "from algorithms.AbstractSynthesizer import AbstractSynthesizer\n",
    "from algorithms.Pixel import Pixel\n",
    "import numpy as np\n",
    "import typing\n",
    "from typing import List, Union, Tuple\n",
    "import random\n",
    "\n",
    "class EfrosLeungSynthesizer(AbstractSynthesizer):\n",
    "    \"\"\"\n",
    "    This class realizes a synthesizer based on that of the 1999 paper by Efros & Leung\n",
    "    See definitions in Abstract Synthesizer for how to use\n",
    "    \"\"\"\n",
    "    \n",
    "    def __init__(self, textonNeighborhoodDiameter: int):\n",
    "        self.textonNeighborhoodDiameter = textonNeighborhoodDiameter\n",
    "    \n",
    "    def getDescription(self) -> str:\n",
    "        return \"Pixel based texture synthesis using methods derived from Efros & Leung's 1999 paper.  Uses fully transparent pixels to identify areas for texture synthesis\"\n",
    "    \n",
    "    @staticmethod\n",
    "    def __generateBaseImage(inputData: Union[List, np.ndarray], outputSize: Tuple[int, int]) -> List[Pixel]:\n",
    "        \"\"\"\n",
    "        Generate the image on which to draw; this implementation does not use constrained synthesis.  Use the EfrosLeungConstrainedSynthesizer instead for that.\n",
    "        Args:\n",
    "            inputData: An array-like-object of two dimensions with a single value for greyscale or a tuple for RGB/RGBA data\n",
    "            outputSize: A tuple dictating the size of the output image in (X, Y)\n",
    "            \n",
    "        Returns:\n",
    "            A 2D list of pixel objects\n",
    "        \"\"\"\n",
    "        #Sanity check before generating and seeding\n",
    "        if outputSize[0] < 3 or outputSize[1] < 3:\n",
    "            raise ValueError(\"Output image must be 3x3 or larger\")\n",
    "           \n",
    "        numchannels = len(inputData[0][0])\\\n",
    "        \n",
    "        #Generate a blank image of the desired size\n",
    "        pixels = []\n",
    "        for i in range(outputSize[1]):\n",
    "            pixels.append([])\n",
    "            for j in range(outputSize[0]):\n",
    "                pixels[i].append(Pixel())\n",
    "        \n",
    "        #Populate the seed\n",
    "        x_samp = random.randint(0,len(inputData[0])-2)\n",
    "        y_samp = random.randint(0, len(inputData)-2)\n",
    "        x_out = int(outputSize[1]/2)-2\n",
    "        y_out = int(outputSize[0]/2)-2\n",
    "        for i in range(3):\n",
    "            for j in range(3):\n",
    "                pixelData = inputData[y_samp+i][x_samp+j]\n",
    "                if numchannels == 4:\n",
    "                    pixel = Pixel(pixelData[3], pixelData[0], pixelData[1], pixelData[2], True)\n",
    "                elif numchannels == 1:\n",
    "                    pixel = Pixel(pixelData[3], filled=True)\n",
    "                else:\n",
    "                    pixel = Pixel(1.0, pixelData[0], pixelData[1], pixelData[2], True)\n",
    "                pixels[y_out+i][x_out+j] = pixel\n",
    "                \n",
    "        return pixels\n",
    "    \n",
    "    @staticmethod    \n",
    "    def __pixelArrayToImage(pixels: List[Pixel], numchannels: int) -> List:\n",
    "        \"\"\"\n",
    "        Converts the pixel array to a matplotlib compatible list\n",
    "        \n",
    "        Args:\n",
    "            pixels: A 2D list of pixels to convert to an image\n",
    "            numchannels: An integer describing the number of channels\n",
    "        \n",
    "        Returns:\n",
    "            A matplotlib compatible 2D list\n",
    "        \"\"\"\n",
    "        imageData = []\n",
    "        for row in pixels:\n",
    "            rowData = []\n",
    "            for pixel in row:\n",
    "                if numchannels == 4:\n",
    "                    rowData.append(pixel.getRGBA())\n",
    "                elif numchannels == 1:\n",
    "                    rowData.append(pixel.getGreyscale())\n",
    "                else:\n",
    "                    rowData.append(pixel.getRGB())\n",
    "            imageData.append(rowData)\n",
    "        return imageData\n",
    "    \n",
    "    def generateTexture(self, inputData: Union[List, np.ndarray], outputSize: Tuple[int, int]) -> Union[List, np.ndarray]:\n",
    "        numchannels = len(inputData[0][0])\n",
    "        pixels = EfrosLeungSynthesizer.__generateBaseImage(inputData, outputSize)\n",
    "        return EfrosLeungSynthesizer.__pixelArrayToImage(pixels, numchannels)"
   ]
  },
  {
   "cell_type": "code",
   "execution_count": 15,
   "metadata": {},
   "outputs": [
    {
     "data": {
      "text/plain": [
       "<matplotlib.image.AxesImage at 0x25b52a58320>"
      ]
     },
     "execution_count": 15,
     "metadata": {},
     "output_type": "execute_result"
    },
    {
     "data": {
      "image/png": "[encoded data removed]",
      "text/plain": [
       "<matplotlib.figure.Figure at 0x25b52a2a0f0>"
      ]
     },
     "metadata": {},
     "output_type": "display_data"
    }
   ],
   "source": [
    "synth = EfrosLeungSynthesizer(15)\n",
    "newImage = synth.generateTexture(imageData, (255, 255))\n",
    "plt.imshow(newImage)"
   ]
  },
  {
   "cell_type": "code",
   "execution_count": null,
   "metadata": {},
   "outputs": [],
   "source": []
  }
 ],
 "metadata": {
  "kernelspec": {
   "display_name": "Python 3",
   "language": "python",
   "name": "python3"
  },
  "language_info": {
   "codemirror_mode": {
    "name": "ipython",
    "version": 3
   },
   "file_extension": ".py",
   "mimetype": "text/x-python",
   "name": "python",
   "nbconvert_exporter": "python",
   "pygments_lexer": "ipython3",
   "version": "3.6.4"
  }
 },
 "nbformat": 4,
 "nbformat_minor": 2
}
